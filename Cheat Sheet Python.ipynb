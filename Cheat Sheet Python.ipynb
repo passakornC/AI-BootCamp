{
 "cells": [
  {
   "cell_type": "markdown",
   "metadata": {},
   "source": [
    "# Create"
   ]
  },
  {
   "cell_type": "code",
   "execution_count": null,
   "metadata": {},
   "outputs": [],
   "source": [
    "# Array\n",
    "# Python STD Lib\n",
    "import array as arr\n",
    "arr_0 = arr.array('i') # An empty array\n",
    "arr_1 = arr.array('i', [1, 2, 3, 4, 5]) # typecode => 'i' 2-B-int, 'd' 8-B-float\n",
    "# print(arr_1)\n",
    "\n",
    "# List\n",
    "lst_1 = [] # An empty list\n",
    "lst_2 = [1, 2, 3, 4, 5] # An integer list\n",
    "lst_3 = [1, 2, \"Hello\"] # A mixed data type list\n",
    "lst_4 = [1, \"Hello\", [2, 3, 4], (5, 6, 7)] # A nested list\n",
    "# print(lst_1)\n",
    "# print(lst_2)\n",
    "# print(lst_3)\n",
    "# print(lst_4)\n",
    "\n",
    "# Tuple\n",
    "tpl_1 = () # An empty tuple\n",
    "tpl_2 = (1, 2, 3, 4, 5) # An integer tuple\n",
    "tpl_3 = (1, 2, \"Hello\") # A mixed data type tuple\n",
    "tpl_4 = (1, \"Hello\", (2, 3, 4), [5, 6, 7]) # A nested tuple\n",
    "tpl_5 = (1,) # A signle element tuple initialization, tbl = 1, is also valid\n",
    "tpl_6 = 1, 2, 3 # Initialize a tuple without parentheses\n",
    "# print(tpl_1)\n",
    "# print(tpl_2)\n",
    "# print(tpl_3)\n",
    "# print(tpl_4)\n",
    "# print(tpl_5)\n",
    "# print(tpl_6)"
   ]
  },
  {
   "cell_type": "markdown",
   "metadata": {},
   "source": [
    "# Access"
   ]
  },
  {
   "cell_type": "code",
   "execution_count": null,
   "metadata": {},
   "outputs": [],
   "source": [
    "# Array\n",
    "print('The first element in an array is', arr_1[0])\n",
    "print('The last element in an array is', arr_1[-1])\n",
    "\n",
    "# List\n",
    "print('The first element in a list is', lst_2[0])\n",
    "print('The last element in a list is', lst_2[-1])\n",
    "print('The second element in a nested list is', lst_4[1])\n",
    "print('The second element of the second element in a nested list is', lst_4[1][1]) # 'e' is the second element in 'Hello' which is the second element in the lst_4\n",
    "\n",
    "# Tuple\n",
    "print('The first element in a tuple is', tpl_2[0])\n",
    "print('The last element in a tuple is', tpl_2[-1])\n",
    "print('The second element in a nested list is', tpl_4[1])\n",
    "print('The second element of the second element in a nested list is', tpl_4[1][1])"
   ]
  },
  {
   "cell_type": "markdown",
   "metadata": {},
   "source": [
    "# Slice (:)"
   ]
  },
  {
   "cell_type": "code",
   "execution_count": null,
   "metadata": {},
   "outputs": [],
   "source": [
    "# Array\n",
    "print('The beginning to the end', arr_1[:])\n",
    "print('The beginning to the 3rd element', arr_1[:3])\n",
    "print('The beginning to the 3rd element with a negative index', arr_1[:-2])\n",
    "print('The 2nd element to the 4th element', arr_1[1:4])\n",
    "print('The 2nd element to the 4th element with a negative index', arr_1[-4:-1])\n",
    "print('The 3rd element to the last element', arr_1[2:])\n",
    "print('The 3rd element to the last element with a negative index', arr_1[-3:])\n",
    "print('The beginning to the end with 2 step', arr_1[::2])\n",
    "print('The beginning to the end with 2 step via a negative index', arr_1[-5::2])\n",
    "\n",
    "# List\n",
    "print('The beginning to the end', lst_2[:])\n",
    "print('The beginning to the 3rd element', lst_2[:3])\n",
    "print('The beginning to the 3rd element with a negative index', lst_2[:-2])\n",
    "print('The 2nd element to the 4th element', lst_2[1:4])\n",
    "print('The 2nd element to the 4th element with a negative index', lst_2[-4:-1])\n",
    "print('The 3rd element to the last element', lst_2[2:])\n",
    "print('The 3rd element to the last element with a negative index', lst_2[-3:])\n",
    "print('The beginning to the end with 2 step', lst_2[::2])\n",
    "print('The beginning to the end with 2 step via a negative index', lst_2[-5::2])\n",
    "print('The 2nd element of the beginning to the 3rd element in a nested list is', lst_4[:3][1])\n",
    "\n",
    "# Tuple\n",
    "print('The beginning to the end', tpl_2[:])\n",
    "print('The beginning to the 3rd element', tpl_2[:3])\n",
    "print('The beginning to the 3rd element with a negative index', tpl_2[:-2])\n",
    "print('The 2nd element to the 4th element', tpl_2[1:4])\n",
    "print('The 2nd element to the 4th element with a negative index', tpl_2[-4:-1])\n",
    "print('The 3rd element to the last element', tpl_2[2:])\n",
    "print('The 3rd element to the last element with a negative index', tpl_2[-3:])\n",
    "print('The beginning to the end with 2 step', tpl_2[::2])\n",
    "print('The beginning to the end with 2 step via a negative index', tpl_2[-5::2])\n",
    "print('The 2nd element of the beginning to the 3rd element in a nested tuple is', tpl_4[:3][1])"
   ]
  },
  {
   "cell_type": "markdown",
   "metadata": {},
   "source": [
    "# Edit or Add"
   ]
  },
  {
   "cell_type": "code",
   "execution_count": null,
   "metadata": {},
   "outputs": [],
   "source": [
    "# Array\n",
    "arr_1[0] = 9 # Edit the first element\n",
    "# print(arr_1)\n",
    "arr_1[1:4] = arr.array('i', [88,77,66]) # Edit the 2nd to 4th element\n",
    "# print(arr_1)\n",
    "arr_1.append(0)\n",
    "# print(arr_1)\n",
    "arr_1.extend(arr.array('i',[-1, -2, -3])) # An iterable is the same type code array\n",
    "# print(arr_1)\n",
    "arr_1.extend((11, 12, 13)) # An iterable is not an array, but it is iterable and has the same data type with the extending array\n",
    "# print(arr_1)\n",
    "arr_1 = arr.array('i', [-2, -1, 0]) + arr.array('i', [1, 2, 3]) # Concatenation\n",
    "# print(arr_1)\n",
    "\n",
    "# List is mutable\n",
    "lst_2[0] = 9 # Edit the first element\n",
    "# print(lst_2)\n",
    "lst_2[1:4] = [88,77,66] # Edit the 2nd to 4th element\n",
    "# print(lst_2)\n",
    "lst_2[0] = [55, 55] # Replace the first element with the new item, lst.insert(0, [55, 55])\n",
    "# print(lst_2)\n",
    "lst_2.insert(0, [555, 555])\n",
    "# print(lst_2)\n",
    "lst_2[0:0] = [33, 22] # Insert the new item start at the first index\n",
    "# print(lst_2)\n",
    "lst_2.insert(0, 11)\n",
    "# print(lst_2)\n",
    "lst_2.append(0)\n",
    "# print(lst_2)\n",
    "lst_2.extend([-1, -2, -3])\n",
    "# print(lst_2)\n",
    "lst_2 = [-2, -1, 0] + [1, 2, 3] # Concatenation\n",
    "# print(lst_2)\n",
    "\n",
    "# Tuple is immutable\n",
    "# Edit each element is impossible, reassign whole new elements is the way to edit a tuple\n",
    "tpl_2 = (11, 22, 33) + (99, 88, 77) # Concatenation\n",
    "# print(tpl_2)"
   ]
  },
  {
   "cell_type": "markdown",
   "metadata": {},
   "source": [
    "# Delete or Remove"
   ]
  },
  {
   "cell_type": "code",
   "execution_count": null,
   "metadata": {},
   "outputs": [],
   "source": [
    "# Array\n",
    "del arr_1[0] # Delete by index\n",
    "# print(arr_1)\n",
    "# del arr_1 # Delete an entire array\n",
    "arr_1.remove(-1) # Remove by element\n",
    "# print(arr_1)\n",
    "print(arr_1.pop(0)) # Remove and return the element by index\n",
    "# print(arr_1)\n",
    "\n",
    "# List\n",
    "print(lst_2)\n",
    "del lst_2[0] # Delete the first index\n",
    "print(lst_2)\n",
    "del lst_2[1:4] # Delete multiple elements\n",
    "print(lst_2)\n",
    "# del lst_2 # Delete an entire list\n",
    "# del lst_2[:] # Remove all elements\n",
    "# lst_2.clear() # Also remove all elements\n",
    "# print(lst_2)\n",
    "lst_2.remove(3) # Remove by element\n",
    "# print(lst_2)\n",
    "print(lst_2.pop(0)) # Remove and return the first element\n",
    "# print(lst_2)\n",
    "\n",
    "# Tuple\n",
    "# Due to immutable property of a tuple, delete an entire tuple seems to be the only way to delete it"
   ]
  },
  {
   "cell_type": "markdown",
   "metadata": {},
   "source": [
    "# Iteration"
   ]
  },
  {
   "cell_type": "code",
   "execution_count": null,
   "metadata": {},
   "outputs": [],
   "source": [
    "# Array\n",
    "arr_0.extend([0, 1, 2, 3]) # Add a new element to the existing array\n",
    "for num in arr_0:\n",
    "    print(num)\n",
    "    \n",
    "# List\n",
    "for item in lst_4:\n",
    "    print(item)\n",
    "    \n",
    "# Tuple\n",
    "for item in tpl_4:\n",
    "    print(item)"
   ]
  },
  {
   "cell_type": "code",
   "execution_count": null,
   "metadata": {},
   "outputs": [],
   "source": []
  }
 ],
 "metadata": {
  "kernelspec": {
   "display_name": "Python 3",
   "language": "python",
   "name": "python3"
  },
  "language_info": {
   "codemirror_mode": {
    "name": "ipython",
    "version": 3
   },
   "file_extension": ".py",
   "mimetype": "text/x-python",
   "name": "python",
   "nbconvert_exporter": "python",
   "pygments_lexer": "ipython3",
   "version": "3.6.6"
  }
 },
 "nbformat": 4,
 "nbformat_minor": 2
}
