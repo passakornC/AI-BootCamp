{
 "cells": [
  {
   "cell_type": "markdown",
   "metadata": {},
   "source": [
    "# Create"
   ]
  },
  {
   "cell_type": "code",
   "execution_count": 9,
   "metadata": {},
   "outputs": [],
   "source": [
    "# Array\n",
    "# Python STD Lib\n",
    "import array as arr\n",
    "arr_1 = arr.array('i', [1,2,3,4,5])\n",
    "# print(arr_1)\n",
    "\n",
    "# List\n",
    "lst_1 = [] # An empty list\n",
    "lst_2 = [1,2,3,4,5] # An integer list\n",
    "lst_3 = [1,2,\"Hello\"] # Mixed data type list\n",
    "lst_4 = [1, \"Hello\", [2,3,4]] # Nested list\n",
    "# print(lst_1)\n",
    "# print(lst_2)\n",
    "# print(lst_3)\n",
    "# print(lst_4)\n",
    "\n",
    "# Tuple\n",
    "tpl_1 = () # An empty tuple\n",
    "tpl_2 = (1,2,3,4,5) # An integer tuple\n",
    "tpl_3 = ()"
   ]
  },
  {
   "cell_type": "code",
   "execution_count": null,
   "metadata": {},
   "outputs": [],
   "source": []
  }
 ],
 "metadata": {
  "kernelspec": {
   "display_name": "Python 3",
   "language": "python",
   "name": "python3"
  },
  "language_info": {
   "codemirror_mode": {
    "name": "ipython",
    "version": 3
   },
   "file_extension": ".py",
   "mimetype": "text/x-python",
   "name": "python",
   "nbconvert_exporter": "python",
   "pygments_lexer": "ipython3",
   "version": "3.6.6"
  }
 },
 "nbformat": 4,
 "nbformat_minor": 2
}
